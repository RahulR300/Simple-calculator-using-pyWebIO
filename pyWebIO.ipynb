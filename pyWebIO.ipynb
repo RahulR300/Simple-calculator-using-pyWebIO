{
 "cells": [
  {
   "cell_type": "markdown",
   "metadata": {},
   "source": [
    "Creating a Web-Application using PyWebIO"
   ]
  },
  {
   "cell_type": "code",
   "execution_count": null,
   "metadata": {},
   "outputs": [],
   "source": [
    "!pip install PyWebIO"
   ]
  },
  {
   "cell_type": "code",
   "execution_count": 2,
   "metadata": {},
   "outputs": [],
   "source": [
    "#Simple-Calculator\n",
    "from pywebio.input import *\n",
    "from pywebio.output import *"
   ]
  },
  {
   "cell_type": "code",
   "execution_count": 3,
   "metadata": {},
   "outputs": [],
   "source": [
    "def mathematicaloperator():\n",
    "    a = input(\"Enter the first number\", type=FLOAT)\n",
    "    b = input(\"Enter the second number\", type=FLOAT)\n",
    "    c = 0\n",
    "    operation = radio(\"Choose one operation\", options=['+', '-', '*', '/', '%'])\n",
    "    operation_name = \"\"\n",
    "    \n",
    "    if operation == \"+\":\n",
    "        operation_name = \"Addition\"\n",
    "        c = a + b\n",
    "    elif operation == \"-\":\n",
    "        operation_name = \"Subtraction\"\n",
    "        c = a - b\n",
    "    elif operation == \"*\":\n",
    "        operation_name = \"Multiplication\"\n",
    "        c = a * b\n",
    "    elif operation == \"/\":\n",
    "        operation_name = \"Division\"\n",
    "        c = a / b\n",
    "    elif operation == \"%\":\n",
    "        operation_name = \"Modulus\"\n",
    "        c = a % b\n",
    "    \n",
    "    put_text('The operation selected is: %s, and the output is: %.1f.' % (operation_name, c))\n",
    "\n",
    "if __name__ == \"__main__\":\n",
    "    mathematicaloperator()"
   ]
  },
  {
   "cell_type": "code",
   "execution_count": null,
   "metadata": {},
   "outputs": [],
   "source": []
  }
 ],
 "metadata": {
  "kernelspec": {
   "display_name": "Python 3",
   "language": "python",
   "name": "python3"
  },
  "language_info": {
   "codemirror_mode": {
    "name": "ipython",
    "version": 3
   },
   "file_extension": ".py",
   "mimetype": "text/x-python",
   "name": "python",
   "nbconvert_exporter": "python",
   "pygments_lexer": "ipython3",
   "version": "3.11.5"
  }
 },
 "nbformat": 4,
 "nbformat_minor": 2
}
